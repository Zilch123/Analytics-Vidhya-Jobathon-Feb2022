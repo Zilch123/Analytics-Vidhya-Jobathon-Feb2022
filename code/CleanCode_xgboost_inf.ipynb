{
 "cells": [
  {
   "cell_type": "code",
   "execution_count": 1,
   "id": "26258bc9",
   "metadata": {},
   "outputs": [
    {
     "name": "stderr",
     "output_type": "stream",
     "text": [
      "2022-02-13 21:11:19.707004: W tensorflow/stream_executor/platform/default/dso_loader.cc:59] Could not load dynamic library 'libcudart.so.10.1'; dlerror: libcudart.so.10.1: cannot open shared object file: No such file or directory; LD_LIBRARY_PATH: /anaconda/envs/azureml_py38/lib/python3.8/site-packages/cv2/../../lib64:\n",
      "2022-02-13 21:11:19.707057: I tensorflow/stream_executor/cuda/cudart_stub.cc:29] Ignore above cudart dlerror if you do not have a GPU set up on your machine.\n"
     ]
    }
   ],
   "source": [
    "import pandas as pd \n",
    "import numpy as np\n",
    "from numpy import absolute\n",
    "import xgboost\n",
    "from sklearn.model_selection import RepeatedKFold, train_test_split, cross_val_score, GridSearchCV, KFold\n",
    "from sklearn.preprocessing import LabelEncoder, StandardScaler\n",
    "from sklearn.metrics import r2_score, mean_absolute_error, mean_squared_error\n",
    "from sklearn.ensemble import RandomForestRegressor\n",
    "from sklearn.cluster import KMeans\n",
    "import shap\n",
    "import matplotlib.pyplot as plt\n"
   ]
  },
  {
   "cell_type": "code",
   "execution_count": 2,
   "id": "f27e6f0d",
   "metadata": {},
   "outputs": [],
   "source": [
    "# _________________read train dataset_______________#\n",
    "df_raw = pd.read_csv('train_0OECtn8.csv')\n",
    "\n",
    "# _________________read test________________________# \n",
    "df_test_raw = pd.read_csv('test_1zqHu22.csv')\n"
   ]
  },
  {
   "cell_type": "code",
   "execution_count": 3,
   "id": "3f71b9e1",
   "metadata": {},
   "outputs": [
    {
     "data": {
      "text/html": [
       "<div>\n",
       "<style scoped>\n",
       "    .dataframe tbody tr th:only-of-type {\n",
       "        vertical-align: middle;\n",
       "    }\n",
       "\n",
       "    .dataframe tbody tr th {\n",
       "        vertical-align: top;\n",
       "    }\n",
       "\n",
       "    .dataframe thead th {\n",
       "        text-align: right;\n",
       "    }\n",
       "</style>\n",
       "<table border=\"1\" class=\"dataframe\">\n",
       "  <thead>\n",
       "    <tr style=\"text-align: right;\">\n",
       "      <th></th>\n",
       "      <th>row_id</th>\n",
       "      <th>user_id</th>\n",
       "      <th>category_id</th>\n",
       "      <th>video_id</th>\n",
       "      <th>age</th>\n",
       "      <th>followers</th>\n",
       "      <th>views</th>\n",
       "      <th>engagement_score</th>\n",
       "    </tr>\n",
       "  </thead>\n",
       "  <tbody>\n",
       "    <tr>\n",
       "      <th>count</th>\n",
       "      <td>89197.000000</td>\n",
       "      <td>89197.000000</td>\n",
       "      <td>89197.000000</td>\n",
       "      <td>89197.000000</td>\n",
       "      <td>89197.000000</td>\n",
       "      <td>89197.000000</td>\n",
       "      <td>89197.000000</td>\n",
       "      <td>89197.000000</td>\n",
       "    </tr>\n",
       "    <tr>\n",
       "      <th>mean</th>\n",
       "      <td>44599.000000</td>\n",
       "      <td>13881.909806</td>\n",
       "      <td>18.323733</td>\n",
       "      <td>77.715383</td>\n",
       "      <td>24.848616</td>\n",
       "      <td>252.460172</td>\n",
       "      <td>502.980268</td>\n",
       "      <td>3.487797</td>\n",
       "    </tr>\n",
       "    <tr>\n",
       "      <th>std</th>\n",
       "      <td>25749.100318</td>\n",
       "      <td>8005.582771</td>\n",
       "      <td>11.675154</td>\n",
       "      <td>48.469656</td>\n",
       "      <td>8.955535</td>\n",
       "      <td>46.094468</td>\n",
       "      <td>268.569482</td>\n",
       "      <td>0.863498</td>\n",
       "    </tr>\n",
       "    <tr>\n",
       "      <th>min</th>\n",
       "      <td>1.000000</td>\n",
       "      <td>1.000000</td>\n",
       "      <td>1.000000</td>\n",
       "      <td>1.000000</td>\n",
       "      <td>10.000000</td>\n",
       "      <td>160.000000</td>\n",
       "      <td>30.000000</td>\n",
       "      <td>0.000000</td>\n",
       "    </tr>\n",
       "    <tr>\n",
       "      <th>25%</th>\n",
       "      <td>22300.000000</td>\n",
       "      <td>6945.000000</td>\n",
       "      <td>8.000000</td>\n",
       "      <td>34.000000</td>\n",
       "      <td>18.000000</td>\n",
       "      <td>230.000000</td>\n",
       "      <td>229.000000</td>\n",
       "      <td>2.900000</td>\n",
       "    </tr>\n",
       "    <tr>\n",
       "      <th>50%</th>\n",
       "      <td>44599.000000</td>\n",
       "      <td>13892.000000</td>\n",
       "      <td>16.000000</td>\n",
       "      <td>76.000000</td>\n",
       "      <td>23.000000</td>\n",
       "      <td>240.000000</td>\n",
       "      <td>467.000000</td>\n",
       "      <td>3.710000</td>\n",
       "    </tr>\n",
       "    <tr>\n",
       "      <th>75%</th>\n",
       "      <td>66898.000000</td>\n",
       "      <td>20819.000000</td>\n",
       "      <td>26.000000</td>\n",
       "      <td>120.000000</td>\n",
       "      <td>32.000000</td>\n",
       "      <td>280.000000</td>\n",
       "      <td>714.000000</td>\n",
       "      <td>4.150000</td>\n",
       "    </tr>\n",
       "    <tr>\n",
       "      <th>max</th>\n",
       "      <td>89197.000000</td>\n",
       "      <td>27734.000000</td>\n",
       "      <td>47.000000</td>\n",
       "      <td>175.000000</td>\n",
       "      <td>68.000000</td>\n",
       "      <td>360.000000</td>\n",
       "      <td>1000.000000</td>\n",
       "      <td>5.000000</td>\n",
       "    </tr>\n",
       "  </tbody>\n",
       "</table>\n",
       "</div>"
      ],
      "text/plain": [
       "             row_id       user_id   category_id      video_id           age  \\\n",
       "count  89197.000000  89197.000000  89197.000000  89197.000000  89197.000000   \n",
       "mean   44599.000000  13881.909806     18.323733     77.715383     24.848616   \n",
       "std    25749.100318   8005.582771     11.675154     48.469656      8.955535   \n",
       "min        1.000000      1.000000      1.000000      1.000000     10.000000   \n",
       "25%    22300.000000   6945.000000      8.000000     34.000000     18.000000   \n",
       "50%    44599.000000  13892.000000     16.000000     76.000000     23.000000   \n",
       "75%    66898.000000  20819.000000     26.000000    120.000000     32.000000   \n",
       "max    89197.000000  27734.000000     47.000000    175.000000     68.000000   \n",
       "\n",
       "          followers         views  engagement_score  \n",
       "count  89197.000000  89197.000000      89197.000000  \n",
       "mean     252.460172    502.980268          3.487797  \n",
       "std       46.094468    268.569482          0.863498  \n",
       "min      160.000000     30.000000          0.000000  \n",
       "25%      230.000000    229.000000          2.900000  \n",
       "50%      240.000000    467.000000          3.710000  \n",
       "75%      280.000000    714.000000          4.150000  \n",
       "max      360.000000   1000.000000          5.000000  "
      ]
     },
     "execution_count": 3,
     "metadata": {},
     "output_type": "execute_result"
    }
   ],
   "source": [
    "df_raw.describe()"
   ]
  },
  {
   "cell_type": "code",
   "execution_count": 4,
   "id": "b747defc",
   "metadata": {},
   "outputs": [],
   "source": [
    "# df_raw.corr()"
   ]
  },
  {
   "cell_type": "code",
   "execution_count": 5,
   "id": "b7ad5cb5",
   "metadata": {},
   "outputs": [
    {
     "data": {
      "text/plain": [
       "Index(['row_id', 'user_id', 'category_id', 'video_id', 'age', 'gender',\n",
       "       'profession', 'followers', 'views', 'engagement_score'],\n",
       "      dtype='object')"
      ]
     },
     "execution_count": 5,
     "metadata": {},
     "output_type": "execute_result"
    }
   ],
   "source": [
    "df_raw.columns"
   ]
  },
  {
   "cell_type": "code",
   "execution_count": 6,
   "id": "5a6d4642",
   "metadata": {},
   "outputs": [],
   "source": [
    "# EDA\n",
    "#     Groupby age on engagement score\n",
    "# df_ae = df_raw.groupby('age')['engagement_score'].agg([percentile(75)]).reset_index()\n",
    "# df_ae.percentile_75.plot()\n",
    "\n",
    "# check if any user_id is not present in the inference \n",
    "# list(set(df_test['user_id'])- set(df_raw['user_id']) )"
   ]
  },
  {
   "cell_type": "code",
   "execution_count": 7,
   "id": "2faea207",
   "metadata": {},
   "outputs": [],
   "source": [
    "def cap_outliers(series, iqr_threshold=1.5, verbose=False):\n",
    "    '''Caps outliers to closest existing value within threshold (IQR).\n",
    "    Args: Series, iqr threshold, verbose\n",
    "    Return: Capped series'''\n",
    "    Q1 = series.quantile(0.25)\n",
    "    Q3 = series.quantile(0.75)\n",
    "    IQR = Q3 - Q1\n",
    "\n",
    "    lbound = Q1 - iqr_threshold * IQR\n",
    "    ubound = Q3 + iqr_threshold * IQR\n",
    "\n",
    "    outliers = (series < lbound) | (series > ubound)\n",
    "\n",
    "    series = series.copy()\n",
    "    series.loc[series < lbound] = series.loc[~outliers].min()\n",
    "    series.loc[series > ubound] = series.loc[~outliers].max()\n",
    "\n",
    "    # For comparison purposes.\n",
    "    if verbose:\n",
    "            print('\\n'.join(\n",
    "                ['Capping outliers by the IQR method:',\n",
    "                 f'   IQR threshold: {iqr_threshold}',\n",
    "                 f'   Lower bound: {lbound}',\n",
    "                 f'   Upper bound: {ubound}\\n']))\n",
    "\n",
    "    return series\n",
    "\n",
    "def pd_mode(x):\n",
    "    '''args: pandas series\n",
    "     Return: Mode of a series'''\n",
    "    m = pd.Series.mode(x);\n",
    "    return m.values[0] if not m.empty else np.nan\n",
    "\n",
    "def percentile(n):\n",
    "    '''args: pandas series \n",
    "     return: nth percentile of series '''\n",
    "    def percentile_(x):\n",
    "        return np.percentile(x, n)\n",
    "    percentile_.__name__ = 'percentile_%s' % n\n",
    "    return percentile_"
   ]
  },
  {
   "cell_type": "code",
   "execution_count": 8,
   "id": "1ef9d37b",
   "metadata": {},
   "outputs": [],
   "source": [
    "def clean_inf(df, df_va, df_ua, df_aa, iqr_threshold):\n",
    "    '''\n",
    "    args: DataFrame, merge_dfs\n",
    "    Return: cleaned dataframe (Label encoded & feature eng)  \n",
    "    '''\n",
    "    le_gender=LabelEncoder()\n",
    "    df['gender']=le_gender.fit_transform(df['gender'])\n",
    "    \n",
    "    le_profession=LabelEncoder()\n",
    "    df['profession']=le_profession.fit_transform(df['profession'])\n",
    "    \n",
    "    df['followers'] = cap_outliers(df['followers'],iqr_threshold=iqr_threshold)\n",
    "    df['views'] = cap_outliers(df['views'],iqr_threshold=iqr_threshold)\n",
    "    \n",
    "\n",
    "#     merge train df_va, df_ua, df_aa with DF\n",
    "    df = df.merge(df_va, how='left', on= 'video_id')\n",
    "    df = df.merge(df_ua, how='left', on= 'user_id')\n",
    "    df = df.merge(df_aa, how='left', on= 'age') \n",
    "    \n",
    "    return df "
   ]
  },
  {
   "cell_type": "code",
   "execution_count": 9,
   "id": "946a6950",
   "metadata": {},
   "outputs": [
    {
     "data": {
      "text/plain": [
       "Index(['row_id', 'user_id', 'category_id', 'video_id', 'age', 'gender',\n",
       "       'profession', 'followers', 'views', 'engagement_score'],\n",
       "      dtype='object')"
      ]
     },
     "execution_count": 9,
     "metadata": {},
     "output_type": "execute_result"
    }
   ],
   "source": [
    "df_raw.columns"
   ]
  },
  {
   "cell_type": "code",
   "execution_count": 10,
   "id": "317598b3",
   "metadata": {},
   "outputs": [],
   "source": [
    "def clean_train(df,iqr_threshold):\n",
    "    '''args: DataFrame\n",
    "    return: cleaned dataframe, to be merged train dataframes'''\n",
    "    \n",
    "#__________________________label encode________________________\n",
    "# _______________________________________________________________\n",
    "    le_gender=LabelEncoder()\n",
    "    df['gender']=le_gender.fit_transform(df['gender'])\n",
    "\n",
    "    le_profession=LabelEncoder()\n",
    "    df['profession']=le_profession.fit_transform(df['profession'])\n",
    "\n",
    "    df['followers'] = cap_outliers(df['followers'],iqr_threshold=iqr_threshold)\n",
    "    df['views'] = cap_outliers(df['views'],iqr_threshold=iqr_threshold)\n",
    "\n",
    "# _________________________AGG Video ID___________________________#\n",
    "# __________________________________________________________________\n",
    "#     Groupby video_id on engagement score \n",
    "    df_va = df.groupby('video_id')['engagement_score'].agg(['mean']) \\\n",
    "            .rename(columns={'mean':'video_id'+'_'+'engagement_score'+'_mean'}).reset_index()\n",
    "    df = df.merge(df_va, how='left', on= 'video_id')\n",
    "    \n",
    "    \n",
    "# _________________________AGG User ID___________________________#\n",
    "# __________________________________________________________________\n",
    "#     Groupby user_id on engagement score\n",
    "    df_ue = df.groupby('user_id')['engagement_score'].agg(['mean']) \\\n",
    "            .rename(columns={'mean':'user_id'+'_'+'engagement_score'+'_mean'}).reset_index()\n",
    "    df = df.merge(df_ue, how='left', on= 'user_id')\n",
    "    \n",
    "#     Groupby user_id on video_ID\n",
    "    df_uvi = df.groupby('user_id')['video_id'].agg([pd_mode]) \\\n",
    "            .rename(columns={'pd_mode':'user_id'+'_'+'video_id'+'_pd_mode'}).reset_index()\n",
    "    df = df.merge(df_uvi, how='left', on= 'user_id')\n",
    "    \n",
    "    \n",
    "#     Groupby user_id on category_id\n",
    "    df_uc = df.groupby('user_id')['category_id'].agg(['mean']) \\\n",
    "            .rename(columns={'mean':'user_id'+'_'+'category_id'+'_mean'}).reset_index()\n",
    "    df = df.merge(df_uc, how='left', on= 'user_id')\n",
    "    \n",
    "#     Groupby user_id on views\n",
    "    df_uv = df.groupby('user_id')['views'].agg(['mean']) \\\n",
    "            .rename(columns={'mean':'user_id'+'_'+'views'+'_mean'}).reset_index()\n",
    "    df = df.merge(df_uv, how='left', on= 'user_id')\n",
    "    \n",
    "# #     Groupby user_id on followers\n",
    "#     df_uf = df.groupby('user_id')['followers'].agg(['mean']) \\\n",
    "#             .rename(columns={'mean':'user_id'+'_'+'followers'+'_mean'}).reset_index()\n",
    "#     df = df.merge(df_uf, how='left', on= 'user_id')\n",
    "    \n",
    "    \n",
    "#     _________merge all user_id agg (ue, uc, uv, uvi)_________\n",
    "    df_ua = df_ue.merge(df_uc, how='left', on= 'user_id')\\\n",
    "                 .merge(df_uv, how='left', on= 'user_id')\\\n",
    "                 .merge(df_uvi, how='left', on= 'user_id')\\\n",
    "#                  .merge(df_uf, how='left', on= 'user_id')\n",
    "    \n",
    "# _________________________AGG age__________________________#\n",
    "# __________________________________________________________________\n",
    "#     Groupby age on engagement score\n",
    "    df_aa = df.groupby('age')['engagement_score'].agg(['mean']) \\\n",
    "            .rename(columns={'mean':'age'+'_'+'engagement_score'+'_mean'}).reset_index()\n",
    "    df = df.merge(df_aa, how='left', on= ['age'])\n",
    "    \n",
    "\n",
    "    \n",
    "    return df, df_va, df_ua, df_aa"
   ]
  },
  {
   "cell_type": "code",
   "execution_count": 11,
   "id": "29a822f6",
   "metadata": {},
   "outputs": [],
   "source": [
    "feature_rejected = ['user_id','video_id', 'age']\n",
    "\n",
    "def train_preprocessing(df_raw, iqr_threshold):\n",
    "    '''args: DataFrame,\n",
    "       return: preprocessed df, to be merged train dataframe, scaler '''\n",
    "    df = df_raw.copy().drop(columns=['row_id'])\n",
    "    \n",
    "\n",
    "    \n",
    "#     ____________Clean and feature engineer______________    #\n",
    "    df, df_va, df_ua, df_aa = clean_train(df, iqr_threshold=iqr_threshold)\n",
    "    \n",
    "    X, y = df.drop(columns=['engagement_score']), df_raw['engagement_score']\n",
    "    \n",
    "    \n",
    "#     ______________Standard scaler_________________   #\n",
    "\n",
    "    scaler = StandardScaler().fit(X)\n",
    "    \n",
    "    X = pd.DataFrame(scaler.transform(X),columns = X.columns)\n",
    "    \n",
    "    \n",
    "    return X.drop(columns=feature_rejected), y, df_va, df_ua, df_aa, scaler\n",
    "\n",
    "\n",
    "# ____________________________________Inf Preprocessing_________________________________________\n",
    "def inf_preprocessing(df_test_,df_va, df_ua, df_aa, scaler, iqr_threshold):\n",
    "    '''args: DataFrame, to be merged dataframe from train\n",
    "    return: preprocessed df'''\n",
    "    \n",
    "    df = df_test_.copy().drop(columns=['row_id'])\n",
    "\n",
    "    \n",
    "#     ____________Clean and feature engineer______________    #\n",
    "    X = clean_inf(df, df_va, df_ua, df_aa, iqr_threshold=iqr_threshold)\n",
    "    \n",
    "\n",
    "    print(list(X.columns))\n",
    "#     ____________Standard scaler Transform________________   #\n",
    "    X = pd.DataFrame(scaler.transform(X),columns = X.columns)\n",
    "    \n",
    "    \n",
    "    \n",
    "    X = X.drop(columns=feature_rejected)\n",
    "    \n",
    "    return X"
   ]
  },
  {
   "cell_type": "code",
   "execution_count": 12,
   "id": "064be2f9",
   "metadata": {},
   "outputs": [],
   "source": [
    "# ___________________preprocessing____________________#\n",
    "# ______________________________________________________________________________#\n",
    "iqr_threshold=6\n",
    "X, y, df_va, df_ua, df_aa, scaler = train_preprocessing(df_raw,iqr_threshold=iqr_threshold)\n",
    "\n",
    "# ____________________split data_______________________#\n",
    "# ______________________________________________________________________________#\n",
    "X_train, X_test, y_train, y_test = train_test_split(X, y, test_size=0.2, random_state=42)"
   ]
  },
  {
   "cell_type": "code",
   "execution_count": 15,
   "id": "db364e38",
   "metadata": {},
   "outputs": [
    {
     "name": "stdout",
     "output_type": "stream",
     "text": [
      "Training Performance: 0.7116303583820347\n",
      "MAE 0.3291391419336792\n",
      "MSE 0.214300981283162\n",
      "RMSE 0.4629265398345206\n",
      "RMSE -0.7701868987484672\n",
      "__________________________test metrics________________________________\n",
      "Test Performance: 0.7058080575244745\n",
      "MAE 0.3342117388492008\n",
      "MSE 0.2222590638411175\n",
      "RMSE 0.4714435956093979\n",
      "RMSE -0.7519558116162193\n",
      "['user_id', 'category_id', 'video_id', 'age', 'gender', 'profession', 'followers', 'views', 'video_id_engagement_score_mean', 'user_id_engagement_score_mean', 'user_id_category_id_mean', 'user_id_views_mean', 'user_id_video_id_pd_mode', 'age_engagement_score_mean']\n"
     ]
    },
    {
     "data": {
      "image/png": "[encoded data removed]",
      "text/plain": [
       "<Figure size 432x288 with 1 Axes>"
      ]
     },
     "metadata": {
      "needs_background": "light"
     },
     "output_type": "display_data"
    }
   ],
   "source": [
    "# _______________model train and inferencing____________________#\n",
    "\n",
    "model = xgboost.XGBRegressor(n_estimators=191, max_depth=7, learning_rate =0.1,\n",
    "                                 subsample=0.7, colsample_bytree=0.8, gamma=6)\n",
    "\n",
    "\n",
    "model = model.fit(X_train, y_train)\n",
    "# model = model.fit(X, y)\n",
    "\n",
    "predictions_ = model.predict(X_train)\n",
    "train_score_lr=r2_score(y_train, predictions_)\n",
    "print(f\"Training Performance: {train_score_lr}\")\n",
    "print(\"MAE\",mean_absolute_error(y_train,predictions_))\n",
    "print(\"MSE\",mean_squared_error(y_train,predictions_))\n",
    "print(\"RMSE\",np.sqrt(mean_squared_error(y_train,predictions_)))\n",
    "print(\"RMSE\",np.log(np.sqrt(mean_squared_error(y_train,predictions_))))\n",
    "\n",
    "print(\"__________________________test metrics________________________________\")\n",
    "# _____________________evaluate on the test dataset__________________________#\n",
    "# ______________________________________________________________________________#\n",
    "predictions = model.predict(X_test)\n",
    "test_score_lr = r2_score(y_test, predictions)\n",
    "print(f\"Test Performance: {test_score_lr}\")\n",
    "print(\"MAE\",mean_absolute_error(y_test,predictions))\n",
    "print(\"MSE\",mean_squared_error(y_test,predictions))\n",
    "print(\"RMSE\",np.sqrt(mean_squared_error(y_test,predictions)))\n",
    "print(\"RMSE\",np.log(np.sqrt(mean_squared_error(y_test,predictions))))\n",
    "\n",
    "# _________________inference preprocessing________________________#\n",
    "df_test = df_test_raw.copy()\n",
    "test_df = inf_preprocessing(df_test, df_va, df_ua, df_aa, scaler,iqr_threshold=iqr_threshold)\n",
    "\n",
    "# _________________predict test________________________#\n",
    "test_score = model.predict(test_df[list(X_train.columns)])\n",
    "\n",
    "# _________________plot distribution________________________# \n",
    "_,_,_ = plt.hist(df_raw['engagement_score'],bins=100)\n",
    "_,_,_ = plt.hist(test_score,bins=100)\n",
    "fontsize = 15\n",
    "plt.xlabel(\"Engagement Score\", fontsize=fontsize)\n",
    "plt.ylabel(\"Frequency\", fontsize=fontsize)\n",
    "\n",
    "# ___________________Save Inference prediction_________________________ \n",
    "df_test['engagement_score']=test_score\n",
    "df_test[['row_id', 'engagement_score']].to_csv(\"gamma_reg_lambda.csv\",index=False)"
   ]
  },
  {
   "cell_type": "code",
   "execution_count": 110,
   "id": "c2266127",
   "metadata": {},
   "outputs": [
    {
     "name": "stdout",
     "output_type": "stream",
     "text": [
      "Training Performance: 0.7122213903809508\n",
      "Test Performance: 0.7185051168375539\n",
      "['user_id', 'category_id', 'video_id', 'age', 'gender', 'profession', 'followers', 'views', 'video_id_engagement_score_mean', 'user_id_engagement_score_mean', 'user_id_category_id_mean', 'user_id_views_mean', 'user_id_video_id_pd_mode', 'age_engagement_score_mean']\n",
      "Training Performance: 0.712221326657366\n",
      "Test Performance: 0.7185032667338929\n",
      "['user_id', 'category_id', 'video_id', 'age', 'gender', 'profession', 'followers', 'views', 'video_id_engagement_score_mean', 'user_id_engagement_score_mean', 'user_id_category_id_mean', 'user_id_views_mean', 'user_id_video_id_pd_mode', 'age_engagement_score_mean']\n",
      "Training Performance: 0.7122210346780017\n",
      "Test Performance: 0.7184960846878135\n",
      "['user_id', 'category_id', 'video_id', 'age', 'gender', 'profession', 'followers', 'views', 'video_id_engagement_score_mean', 'user_id_engagement_score_mean', 'user_id_category_id_mean', 'user_id_views_mean', 'user_id_video_id_pd_mode', 'age_engagement_score_mean']\n",
      "Training Performance: 0.7122971352887438\n",
      "Test Performance: 0.7184969854632319\n",
      "['user_id', 'category_id', 'video_id', 'age', 'gender', 'profession', 'followers', 'views', 'video_id_engagement_score_mean', 'user_id_engagement_score_mean', 'user_id_category_id_mean', 'user_id_views_mean', 'user_id_video_id_pd_mode', 'age_engagement_score_mean']\n",
      "Training Performance: 0.7122971060839236\n",
      "Test Performance: 0.7184963654928735\n",
      "['user_id', 'category_id', 'video_id', 'age', 'gender', 'profession', 'followers', 'views', 'video_id_engagement_score_mean', 'user_id_engagement_score_mean', 'user_id_category_id_mean', 'user_id_views_mean', 'user_id_video_id_pd_mode', 'age_engagement_score_mean']\n",
      "Training Performance: 0.7123588040094917\n",
      "Test Performance: 0.7185914286058648\n",
      "['user_id', 'category_id', 'video_id', 'age', 'gender', 'profession', 'followers', 'views', 'video_id_engagement_score_mean', 'user_id_engagement_score_mean', 'user_id_category_id_mean', 'user_id_views_mean', 'user_id_video_id_pd_mode', 'age_engagement_score_mean']\n"
     ]
    },
    {
     "data": {
      "image/png": "[encoded data removed]",
      "text/plain": [
       "<Figure size 432x288 with 1 Axes>"
      ]
     },
     "metadata": {
      "needs_background": "light"
     },
     "output_type": "display_data"
    }
   ],
   "source": [
    "# _____________________hyper parameter tuning__________________________#\n",
    "# ______________________________________________________________________________#\n",
    "n_estimators= 190\n",
    "\n",
    "for n_estimators in [188,189,190,191,192,193]:\n",
    "    model = xgboost.XGBRegressor(n_estimators=n_estimators, max_depth=7, learning_rate =0.1,\n",
    "                                 subsample=0.7, colsample_bytree=0.8, gamma=6)\n",
    "\n",
    "\n",
    "    model = model.fit(X_train, y_train)\n",
    "    # model = model.fit(X, y)\n",
    "\n",
    "    train_score_lr=r2_score(y_train, model.predict(X_train))\n",
    "    print(f\"Training Performance: {train_score_lr}\")\n",
    "\n",
    "    # _____________________evaluate on the test dataset__________________________#\n",
    "    # ______________________________________________________________________________#\n",
    "    predictions = model.predict(X_test)\n",
    "    test_score_lr = r2_score(y_test, predictions)\n",
    "    print(f\"Test Performance: {test_score_lr}\")\n",
    "\n",
    "    # _________________inference preprocessing________________________#\n",
    "    df_test = df_test_raw.copy()\n",
    "    test_df = inf_preprocessing(df_test, df_va, df_ua, df_aa, scaler,iqr_threshold=iqr_threshold)\n",
    "\n",
    "    # _________________predict test________________________#\n",
    "    test_score = model.predict(test_df[list(X_train.columns)])\n",
    "\n",
    "    # _________________plot distribution________________________# \n",
    "    _,_,_ = plt.hist(df_raw['engagement_score'],bins=100)\n",
    "    _,_,_ = plt.hist(test_score,bins=100)\n",
    "    fontsize = 15\n",
    "    plt.xlabel(\"Engagement Score\", fontsize=fontsize)\n",
    "    plt.ylabel(\"Frequency\", fontsize=fontsize)\n",
    "\n",
    "    # ___________________Save Inference prediction_________________________ \n",
    "    df_test['engagement_score']=test_score\n",
    "    df_test[['row_id', 'engagement_score']].to_csv(str(n_estimators)+\"n_estimators.csv\",index=False)"
   ]
  },
  {
   "cell_type": "code",
   "execution_count": null,
   "id": "13a59f54",
   "metadata": {},
   "outputs": [],
   "source": [
    "from sklearn.model_selection import GridSearchCV\n",
    "\n",
    "param_grid = {\n",
    "    \"max_depth\": [7,],\n",
    "    \"min_samples_split\": [2,5,7,10],\n",
    "    \"min_samples_leaf\": [1,2,5],\n",
    "    \"n_estimators\":[190,],\n",
    "    \"learning_rate\":[0.1,],\n",
    "    \"subsample\":[0.7,],\n",
    "    \"colsample_bytree\":[0.8,]\n",
    "    \n",
    "}\n",
    "grid_cv = GridSearchCV(xgboost.XGBRegressor(), param_grid, scoring=\"r2\", n_jobs=-1, cv=3).fit(X_train, y_train)\n",
    "\n",
    "print(\"Param for GS\", grid_cv.best_params_)\n",
    "print(\"CV score for GS\", grid_cv.best_score_)\n",
    "print(\"Train r2 Score for GS: \", r2_score(y_train, grid_cv.predict(X_train)))\n",
    "print(\"Test r2 Score for GS: \", r2_score(y_test, grid_cv.predict(X_test)))"
   ]
  },
  {
   "cell_type": "code",
   "execution_count": 34,
   "id": "3186964c",
   "metadata": {},
   "outputs": [
    {
     "name": "stdout",
     "output_type": "stream",
     "text": [
      "['user_id', 'category_id', 'video_id', 'age', 'gender', 'profession', 'followers', 'views', 'video_id_engagement_score_mean', 'user_id_engagement_score_mean', 'user_id_category_id_mean', 'user_id_views_mean', 'user_id_video_id_pd_mode', 'age_engagement_score_mean']\n"
     ]
    },
    {
     "data": {
      "image/png": "[encoded data removed]",
      "text/plain": [
       "<Figure size 432x288 with 1 Axes>"
      ]
     },
     "metadata": {
      "needs_background": "light"
     },
     "output_type": "display_data"
    }
   ],
   "source": []
  },
  {
   "cell_type": "code",
   "execution_count": 87,
   "id": "d37ee614",
   "metadata": {},
   "outputs": [
    {
     "data": {
      "text/plain": [
       "Index(['category_id', 'gender', 'profession', 'followers', 'views',\n",
       "       'video_id_engagement_score_mean', 'user_id_engagement_score_mean',\n",
       "       'user_id_video_id_pd_mode', 'user_id_category_id_mean',\n",
       "       'user_id_views_mean', 'age_engagement_score_mean'],\n",
       "      dtype='object')"
      ]
     },
     "execution_count": 87,
     "metadata": {},
     "output_type": "execute_result"
    }
   ],
   "source": [
    "X_train.columns"
   ]
  },
  {
   "cell_type": "code",
   "execution_count": 86,
   "id": "45b94a06",
   "metadata": {
    "scrolled": false
   },
   "outputs": [
    {
     "data": {
      "image/png": "[encoded data removed]",
      "text/plain": [
       "<Figure size 576x424.8 with 2 Axes>"
      ]
     },
     "metadata": {
      "needs_background": "light"
     },
     "output_type": "display_data"
    },
    {
     "data": {
      "image/png": "[encoded data removed]",
      "text/plain": [
       "<Figure size 576x504 with 1 Axes>"
      ]
     },
     "metadata": {},
     "output_type": "display_data"
    }
   ],
   "source": [
    "# ______________compute SHAP values__________________\n",
    "# _____________________________________________________\n",
    "explainer = shap.Explainer(model, X_train[::100])\n",
    "shap_values = explainer(X_train[::100])\n",
    "shap.plots.beeswarm(shap_values, max_display=20)\n",
    "shap.plots.bar(shap_values.abs.mean(0),max_display=20)"
   ]
  },
  {
   "cell_type": "code",
   "execution_count": 67,
   "id": "115e4abc",
   "metadata": {},
   "outputs": [
    {
     "name": "stdout",
     "output_type": "stream",
     "text": [
      "0.016565595\n",
      "Thresh=0.017, n=12, r2: 71.663%\n",
      "0.01895317\n",
      "Thresh=0.019, n=11, r2: 72.124%\n",
      "0.02249455\n",
      "Thresh=0.022, n=10, r2: 72.316%\n",
      "0.02261055\n",
      "Thresh=0.023, n=9, r2: 71.634%\n",
      "0.022833703\n",
      "Thresh=0.023, n=8, r2: 72.319%\n",
      "0.023157513\n",
      "Thresh=0.023, n=7, r2: 72.139%\n",
      "0.029494468\n",
      "Thresh=0.029, n=6, r2: 70.675%\n",
      "0.03664302\n",
      "Thresh=0.037, n=5, r2: 70.532%\n",
      "0.056776814\n",
      "Thresh=0.057, n=4, r2: 71.283%\n",
      "0.060148127\n",
      "Thresh=0.060, n=3, r2: 62.519%\n",
      "0.07135596\n",
      "Thresh=0.071, n=2, r2: 63.570%\n",
      "0.6189666\n",
      "Thresh=0.619, n=1, r2: 64.303%\n"
     ]
    }
   ],
   "source": [
    "# ________Feature selection using sklearn SelectFromModel________\n",
    "# ________________________________________________________________\n",
    "\n",
    "from sklearn.feature_selection import SelectFromModel\n",
    "\n",
    "# Fit model using each importance as a threshold\n",
    "thresholds = np.sort(model.feature_importances_)\n",
    "for thresh in thresholds:\n",
    "    print(thresh)\n",
    "    # select features using threshold\n",
    "    selection = SelectFromModel(model, threshold=thresh, prefit=True)\n",
    "    select_X_train = selection.transform(X_train)\n",
    "    # train model\n",
    "    selection_model = xgboost.XGBRegressor()\n",
    "    selection_model.fit(select_X_train, y_train)\n",
    "    # eval model\n",
    "    select_X_test = selection.transform(X_test)\n",
    "    predictions = selection_model.predict(select_X_test)\n",
    "    r2 = r2_score(y_test, predictions)\n",
    "    print(\"Thresh=%.3f, n=%d, r2: %.3f%%\" % (thresh, select_X_train.shape[1], r2*100.0))"
   ]
  },
  {
   "cell_type": "code",
   "execution_count": 60,
   "id": "613bd7a8",
   "metadata": {},
   "outputs": [
    {
     "name": "stdout",
     "output_type": "stream",
     "text": [
      "Thresh=0.022, n=10, r2: 72.541%\n"
     ]
    },
    {
     "data": {
      "text/plain": [
       "['age_engagement_score_mean', 'cust_type']"
      ]
     },
     "execution_count": 60,
     "metadata": {},
     "output_type": "execute_result"
    }
   ],
   "source": [
    "# ________Feature selection using sklearn SelectFromModel________\n",
    "\n",
    "thresh=0.021527847\n",
    "# select features using threshold\n",
    "selection = SelectFromModel(model, threshold=thresh, prefit=True)\n",
    "select_X_train = selection.transform(X_train)\n",
    "# train model\n",
    "selection_model = xgboost.XGBRegressor()\n",
    "selection_model.fit(select_X_train, y_train)\n",
    "# eval model\n",
    "select_X_test = selection.transform(X_test)\n",
    "predictions = selection_model.predict(select_X_test)\n",
    "r2 = r2_score(y_test, predictions)\n",
    "print(\"Thresh=%.3f, n=%d, r2: %.3f%%\" % (thresh, select_X_train.shape[1], r2*100.0))\n",
    "\n",
    "feature_idx = selection.get_support()\n",
    "feature_name = X_train.columns[feature_idx]\n",
    "list(set(X_train.columns) - set(feature_name))"
   ]
  },
  {
   "cell_type": "code",
   "execution_count": null,
   "id": "c9072ec8",
   "metadata": {},
   "outputs": [],
   "source": []
  }
 ],
 "metadata": {
  "kernelspec": {
   "display_name": "Python 3.8 - AzureML",
   "language": "python",
   "name": "python38-azureml"
  },
  "language_info": {
   "codemirror_mode": {
    "name": "ipython",
    "version": 3
   },
   "file_extension": ".py",
   "mimetype": "text/x-python",
   "name": "python",
   "nbconvert_exporter": "python",
   "pygments_lexer": "ipython3",
   "version": "3.8.1"
  }
 },
 "nbformat": 4,
 "nbformat_minor": 5
}
